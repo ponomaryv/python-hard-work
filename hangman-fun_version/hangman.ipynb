{
 "cells": [
  {
   "cell_type": "code",
   "execution_count": 1,
   "metadata": {},
   "outputs": [],
   "source": [
    "import pandas as pd"
   ]
  },
  {
   "cell_type": "code",
   "execution_count": 2,
   "metadata": {},
   "outputs": [
    {
     "name": "stdout",
     "output_type": "stream",
     "text": [
      "Loading word list from file...\n",
      "   55900 words loaded.\n"
     ]
    }
   ],
   "source": [
    "import hangman as hg"
   ]
  },
  {
   "cell_type": "code",
   "execution_count": 3,
   "metadata": {},
   "outputs": [
    {
     "name": "stdout",
     "output_type": "stream",
     "text": [
      "Loading word list from file...\n",
      "   55900 words loaded.\n"
     ]
    }
   ],
   "source": [
    "wordlist = hg.load_words()"
   ]
  },
  {
   "cell_type": "code",
   "execution_count": 4,
   "metadata": {},
   "outputs": [],
   "source": [
    "df = pd.DataFrame(wordlist, columns=['words'])\n",
    "\n",
    "df['len'] = df['words'].apply(len)\n",
    "df['n_unique'] = df['words'].apply(list).apply(set).apply(list).apply(len)\n",
    "\n",
    "# df = df[df['n_unique']<4]\n",
    "# df = df[df['len']==df['len'].max()]\n",
    "\n",
    "df = df[df['n_unique']==df['n_unique'].max()]"
   ]
  },
  {
   "cell_type": "code",
   "execution_count": 22,
   "metadata": {},
   "outputs": [
    {
     "name": "stdout",
     "output_type": "stream",
     "text": [
      "Loading word list from file...\n",
      "   55900 words loaded.\n"
     ]
    },
    {
     "data": {
      "text/plain": [
       "<module 'hangman' from 'C:\\\\Users\\\\Kostya\\\\PycharmProjects\\\\hangman\\\\hangman.py'>"
      ]
     },
     "execution_count": 22,
     "metadata": {},
     "output_type": "execute_result"
    }
   ],
   "source": [
    "import importlib\n",
    "importlib.reload(hg)"
   ]
  },
  {
   "cell_type": "code",
   "execution_count": 9,
   "metadata": {},
   "outputs": [],
   "source": [
    "from art_master.art import tprint"
   ]
  },
  {
   "cell_type": "code",
   "execution_count": 27,
   "metadata": {},
   "outputs": [
    {
     "data": {
      "text/plain": [
       "['e', 'a', 'c', 'p', 'r', 'y', 'h', 't', 'g', 'l', 'm']"
      ]
     },
     "execution_count": 27,
     "metadata": {},
     "output_type": "execute_result"
    }
   ],
   "source": [
    "letters_guessed"
   ]
  },
  {
   "cell_type": "code",
   "execution_count": 28,
   "metadata": {
    "scrolled": true
   },
   "outputs": [
    {
     "name": "stdout",
     "output_type": "stream",
     "text": [
      "I am thinking of a word that is 10 letters long.\n",
      "    You have 6 guesses left. Available letters: abcdefghijklmnopqrstuvwxyz\n",
      "Please guess a letter:\n",
      "e\n",
      "Good guess: _ _ _ _ _ _ _ _ e _\n",
      "                                                                                                                                                                                                                                                          \n",
      "I am thinking of a word that is 10 letters long.\n",
      "    You have 6 guesses left. Available letters: abcdfghijklmnopqrstuvwxyz\n",
      "Please guess a letter:\n",
      "a\n",
      "Good guess: _ _ _ _ a _ _ _ e _\n",
      "                                                                                                                                                                                                                                                          \n",
      "I am thinking of a word that is 10 letters long.\n",
      "    You have 6 guesses left. Available letters: bcdfghijklmnopqrstuvwxyz\n",
      "Please guess a letter:\n",
      "h\n",
      "=( That letter is not in my word: _ _ _ _ a _ _ _ e _\n",
      "                                                                                                                                                                                                                                                          \n",
      "I am thinking of a word that is 10 letters long.\n",
      "    You have 5 guesses left. Available letters: bcdfgijklmnopqrstuvwxyz\n",
      "Please guess a letter:\n",
      "c\n",
      "=( That letter is not in my word: _ _ _ _ a _ _ _ e _\n",
      "                                                                                                                                                                                                                                                          \n",
      "I am thinking of a word that is 10 letters long.\n",
      "    You have 4 guesses left. Available letters: bdfgijklmnopqrstuvwxyz\n",
      "Please guess a letter:\n",
      "t\n",
      "Good guess: _ _ _ t a _ _ _ e _\n",
      "                                                                                                                                                                                                                                                          \n",
      "I am thinking of a word that is 10 letters long.\n",
      "    You have 4 guesses left. Available letters: bdfgijklmnopqrsuvwxyz\n",
      "Please guess a letter:\n",
      "r\n",
      "=( That letter is not in my word: _ _ _ t a _ _ _ e _\n",
      "                                                                                                                                                                                                                                                          \n",
      "I am thinking of a word that is 10 letters long.\n",
      "    You have 3 guesses left. Available letters: bdfgijklmnopqsuvwxyz\n",
      "Please guess a letter:\n",
      "n\n",
      "=( That letter is not in my word: _ _ _ t a _ _ _ e _\n",
      "                                                                                                                                                                                                                                                          \n",
      "I am thinking of a word that is 10 letters long.\n",
      "    You have 2 guesses left. Available letters: bdfgijklmopqsuvwxyz\n",
      "Please guess a letter:\n",
      "m\n",
      "=( That letter is not in my word: _ _ _ t a _ _ _ e _\n",
      "                                                                                                                                                                                                                                                          \n",
      "I am thinking of a word that is 10 letters long.\n",
      "    You have 1 guesses left. Available letters: bdfgijklopqsuvwxyz\n",
      "Please guess a letter:\n",
      "p\n",
      "Good guess: _ _ _ t a p _ _ e _\n",
      "                                                                                                                                                                                                                                                          \n",
      "I am thinking of a word that is 10 letters long.\n",
      "    You have 1 guesses left. Available letters: bdfgijkloqsuvwxyz\n",
      "Please guess a letter:\n",
      "v\n",
      "=( That letter is not in my word: _ _ _ t a p _ _ e _\n",
      "                                                                                                                                                                                                                                                          \n",
      "I am thinking of a word that is 10 letters long.\n",
      "    You have 0 guesses left. Available letters: bdfgijkloqsuwxyz\n",
      "Please guess a letter:\n",
      "s\n",
      "Good guess: _ _ _ t a p _ s e _\n",
      "                                                                                                                                                                                                                                                          \n",
      "I am thinking of a word that is 10 letters long.\n",
      "    You have 0 guesses left. Available letters: bdfgijkloquwxyz\n",
      "Please guess a letter:\n",
      "d\n",
      "Good guess: _ _ _ t a p _ s e d\n",
      "                                                                                                                                                                                                                                                          \n",
      "I am thinking of a word that is 10 letters long.\n",
      "    You have 0 guesses left. Available letters: bfgijkloquwxyz\n",
      "Please guess a letter:\n",
      "o\n",
      "Good guess: _ _ _ t a p o s e d\n",
      "                                                                                                                                                                                                                                                          \n",
      "I am thinking of a word that is 10 letters long.\n",
      "    You have 0 guesses left. Available letters: bfgijklquwxyz\n",
      "Please guess a letter:\n",
      "b\n",
      "=( That letter is not in my word: _ _ _ t a p o s e d\n",
      "You loose, you have nothing=( Word was:\n",
      "   _               _                                        _ \n",
      "  (_) _   _ __  __| |_   __ _  _ __    ___   ___   ___   __| |\n",
      "  | || | | |\\ \\/ /| __| / _` || '_ \\  / _ \\ / __| / _ \\ / _` |\n",
      "  | || |_| | >  < | |_ | (_| || |_) || (_) |\\__ \\|  __/| (_| |\n",
      " _/ | \\__,_|/_/\\_\\ \\__| \\__,_|| .__/  \\___/ |___/ \\___| \\__,_|\n",
      "|__/                          |_|                             \n",
      "\n"
     ]
    }
   ],
   "source": [
    "secret_word = hg.choose_word(df['words'].unique())\n",
    "letters_guessed = []\n",
    "N_guesses = 6\n",
    "N_warnings = 3\n",
    "result = ''\n",
    "\n",
    "while True:\n",
    "    \n",
    "    available_letters = ''.join(sorted(list(hg.get_available_letters(letters_guessed))))\n",
    "    \n",
    "    print(f\"\"\"I am thinking of a word that is {len(secret_word)} letters long.\n",
    "    You have {N_guesses} guesses left. Available letters: {available_letters}\"\"\")\n",
    "    \n",
    "    last_guessed = input('Please guess a letter:\\n')\n",
    "    last_guessed = last_guessed.lower()\n",
    "    letters_guessed = letters_guessed + [last_guessed]\n",
    "\n",
    "    result = hg.get_guessed_word(secret_word, letters_guessed)\n",
    "\n",
    "    if hg.is_word_guessed(secret_word, last_guessed):\n",
    "        if secret_word == ''.join(result.split(' ')):\n",
    "            print(f'Congats!!! {N_guesses} guesses left! GG WP=)')\n",
    "            tprint(f'{secret_word}')\n",
    "            break\n",
    "            \n",
    "        else:\n",
    "            print(f'Good guess: {result}')\n",
    "\n",
    "    elif last_guessed in list('abcdefghijklmnopqrstuvwxyz'):\n",
    "        print(f'=( That letter is not in my word: {result}')\n",
    "        N_guesses = N_guesses - 1\n",
    "\n",
    "    else:\n",
    "        N_guesses = N_guesses - 1\n",
    "        if N_warnings>0:\n",
    "            N_warnings = N_warnings - 1\n",
    "            print(f'Oops! That is not a valid letter. You have {N_warnings} warnings left: {result}')\n",
    "        else:\n",
    "            print(f'Oops! Oops! Oops! Oops! Oops! Oops! Oops! Oops!')\n",
    "            print(f'You loose, you have nothing. Word was:')\n",
    "            tprint(f'{secret_word}')\n",
    "            break\n",
    "        \n",
    "    if N_guesses<0:\n",
    "        print('You loose, you have nothing=( Word was:')\n",
    "        tprint(f'{secret_word}')\n",
    "        break\n",
    "        \n",
    "    print(' '*250)"
   ]
  },
  {
   "cell_type": "code",
   "execution_count": 1,
   "metadata": {},
   "outputs": [],
   "source": [
    "import time"
   ]
  },
  {
   "cell_type": "code",
   "execution_count": 2,
   "metadata": {},
   "outputs": [],
   "source": [
    "time.sleep(3)"
   ]
  },
  {
   "cell_type": "code",
   "execution_count": null,
   "metadata": {},
   "outputs": [],
   "source": []
  },
  {
   "cell_type": "code",
   "execution_count": null,
   "metadata": {},
   "outputs": [],
   "source": []
  }
 ],
 "metadata": {
  "kernelspec": {
   "display_name": "Python 3",
   "language": "python",
   "name": "python3"
  },
  "language_info": {
   "codemirror_mode": {
    "name": "ipython",
    "version": 3
   },
   "file_extension": ".py",
   "mimetype": "text/x-python",
   "name": "python",
   "nbconvert_exporter": "python",
   "pygments_lexer": "ipython3",
   "version": "3.7.4"
  }
 },
 "nbformat": 4,
 "nbformat_minor": 2
}
